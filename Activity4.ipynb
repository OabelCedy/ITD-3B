{
 "cells": [
  {
   "cell_type": "markdown",
   "id": "06da6246-3151-402d-a98b-5046a674d340",
   "metadata": {},
   "source": [
    "<h1>UK ROAD ACCIDENTS DATA ANALYSIS</h1>\n",
    "<H2>INCLUSIVE YEAR 2019 - 2022</H2>\n",
    "<H2>Analyst : Cedrick S. Oabel</H2>\n",
    "<h2>DATA PREPARATION</h2>\n",
    "<h3>Transfer Data set to folder</h3>"
   ]
  },
  {
   "cell_type": "code",
   "execution_count": null,
   "id": "af895dc1-abd9-44bf-8ee7-05259a534a5e",
   "metadata": {},
   "outputs": [],
   "source": []
  },
  {
   "cell_type": "code",
   "execution_count": null,
   "id": "6754cc42-0a37-4cf1-8cdf-4a36b11b8305",
   "metadata": {},
   "outputs": [],
   "source": [
    "import numpy as np\n",
    "import pandas as pd\n",
    "import matplotlib.pyplot as plt\n",
    "import seaborn as sns\n",
    "from scipy.stats import f_oneway"
   ]
  },
  {
   "cell_type": "markdown",
   "id": "d9190cab-a999-4a44-8e16-4885414545b5",
   "metadata": {},
   "source": [
    "<h1>DATA FRAMES</h1>"
   ]
  },
  {
   "cell_type": "code",
   "execution_count": null,
   "id": "062850a5-ac96-46b7-8c24-17d5c1bcf6b6",
   "metadata": {},
   "outputs": [],
   "source": [
    "accident = pd.read_csv('datasets\\\\accident_data.csv')"
   ]
  },
  {
   "cell_type": "code",
   "execution_count": null,
   "id": "9c2c1fce-2363-486f-bc96-5b9e8bc6d967",
   "metadata": {},
   "outputs": [],
   "source": [
    "accident"
   ]
  },
  {
   "cell_type": "code",
   "execution_count": null,
   "id": "1a34783a-ea9d-4f42-aa42-ea6f90186a40",
   "metadata": {},
   "outputs": [],
   "source": [
    "accident.dtypes"
   ]
  },
  {
   "cell_type": "code",
   "execution_count": null,
   "id": "239853f2-6c6c-492f-bf0a-595491676f6b",
   "metadata": {},
   "outputs": [],
   "source": [
    "accident.isnull().sum()"
   ]
  },
  {
   "cell_type": "markdown",
   "id": "6020e64c-40bc-4fb5-9d15-24ad22e1304b",
   "metadata": {},
   "source": [
    "<h1>Categorical Data Fields</h1>"
   ]
  },
  {
   "cell_type": "code",
   "execution_count": null,
   "id": "437f1bba-721b-4c1f-851f-cb61179486dc",
   "metadata": {},
   "outputs": [],
   "source": [
    "accident['Accident Date'] = accident['Accident Date'].astype('str')\n",
    "accident['Light_Conditions'] = accident['Light_Conditions'].astype('category')\n",
    "accident['Accident_Severity'] = accident['Accident_Severity'].astype('category')\n",
    "accident['District Area'] = accident['District Area'].astype('category')\n",
    "accident['Road_Surface_Conditions'] = accident['Road_Surface_Conditions'].astype('category')\n",
    "accident['Urban_or_Rural_Area'] = accident['Urban_or_Rural_Area'].astype('category')\n",
    "accident['Road_Type'] = accident['Road_Type'].astype('category')\n",
    "accident['Weather_Conditions'] = accident['Weather_Conditions'].astype('category')\n",
    "accident['Vehicle_Type'] = accident['Vehicle_Type'].astype('category')\n",
    "accident['Latitude'] = accident['Latitude'].astype('category')\n",
    "accident['Longitude'] = accident['Longitude'].astype('category')"
   ]
  },
  {
   "cell_type": "markdown",
   "id": "4525de5a-6127-480c-b66d-f46a9b14a89b",
   "metadata": {},
   "source": [
    "<h1>Converting Data Field into DATE TIME data type</h1>"
   ]
  },
  {
   "cell_type": "code",
   "execution_count": null,
   "id": "3d11a951-c3a5-4060-b58a-f69c6ff75a49",
   "metadata": {},
   "outputs": [],
   "source": [
    "accident.dtypes"
   ]
  },
  {
   "cell_type": "code",
   "execution_count": null,
   "id": "f7f598d5-c144-4e10-95a3-22c789bfe389",
   "metadata": {},
   "outputs": [],
   "source": [
    "accident['Accident Date'] = accident['Accident Date'].str.strip()\n",
    "accident['Accident Date'] = accident['Accident Date'].str.replace('/','-')\n"
   ]
  },
  {
   "cell_type": "code",
   "execution_count": null,
   "id": "6737bde1-7b1e-4c45-b416-ab6d07ec68c0",
   "metadata": {},
   "outputs": [],
   "source": [
    "accident"
   ]
  },
  {
   "cell_type": "code",
   "execution_count": null,
   "id": "1257dc7f-c501-4449-aa2d-6c91947e293c",
   "metadata": {},
   "outputs": [],
   "source": [
    "accident['Accident Date'] = pd.to_datetime(accident['Accident Date'], dayfirst = True, errors = 'coerce')"
   ]
  },
  {
   "cell_type": "code",
   "execution_count": null,
   "id": "8f05b574-c1aa-4756-88ed-bc43c531a2f0",
   "metadata": {},
   "outputs": [],
   "source": [
    "accident.dtypes"
   ]
  },
  {
   "cell_type": "code",
   "execution_count": null,
   "id": "ae7a3f0e-d154-494c-8458-2fe9b067b57c",
   "metadata": {},
   "outputs": [],
   "source": [
    "accident['Accident Date'] = pd.to_datetime(accident['Accident Date'], dayfirst = True, errors = 'coerce')"
   ]
  },
  {
   "cell_type": "code",
   "execution_count": null,
   "id": "35c6ad64-c936-43a8-962b-9616ab8a1144",
   "metadata": {},
   "outputs": [],
   "source": [
    "accident['Accident Date']"
   ]
  },
  {
   "cell_type": "markdown",
   "id": "5eac9942-7777-4200-a216-beb090f11b08",
   "metadata": {},
   "source": [
    "<H1>Data Cleansing</H1>"
   ]
  },
  {
   "cell_type": "code",
   "execution_count": null,
   "id": "42319b70-887c-4c60-af64-3625269f2f76",
   "metadata": {},
   "outputs": [],
   "source": [
    "accident['Road_Surface_Conditions'] = accident['Road_Surface_Conditions'].astype('str')\n",
    "accident['Latitude'] = accident['Latitude'].fillna(accident['Latitude'].mode()[0])\n",
    "accident['Accident Date'] = accident['Accident Date'].fillna('Unknown Date')\n",
    "accident['Longitude'] = accident['Longitude'].fillna(accident['Longitude'].mode()[0])\n",
    "accident['Road_Surface_Conditions'] = accident['Road_Surface_Conditions'].fillna('unknown road condition')\n",
    "accident['Urban_or_Rural_Area'] = accident['Urban_or_Rural_Area'].fillna(accident['Urban_or_Rural_Area'].mode()[0])\n",
    "accident['Road_Type'] = accident['Road_Type'].fillna(accident['Road_Type'].mode()[0])\n",
    "accident['Weather_Conditions'] = accident['Weather_Conditions'].fillna(accident['Weather_Conditions'].mode()[0])"
   ]
  },
  {
   "cell_type": "code",
   "execution_count": null,
   "id": "226ed537-67d6-49d9-b142-1e18b5ec6e83",
   "metadata": {},
   "outputs": [],
   "source": [
    "accident.isnull().sum()"
   ]
  },
  {
   "cell_type": "code",
   "execution_count": null,
   "id": "a2757bdd-c8ae-4119-9a65-667f7ef30ecf",
   "metadata": {},
   "outputs": [],
   "source": [
    "accident['Accident Date']"
   ]
  },
  {
   "cell_type": "code",
   "execution_count": null,
   "id": "f712e07b-0e83-4c71-a405-d4561c3c5015",
   "metadata": {},
   "outputs": [],
   "source": [
    "accident['Weather_Conditions'].value_counts()"
   ]
  },
  {
   "cell_type": "markdown",
   "id": "38d92580-da80-4fef-9e07-18a7300429f9",
   "metadata": {},
   "source": [
    "<h1>Univariate Analysis on accidentthat happened in 2019</h1>"
   ]
  },
  {
   "cell_type": "code",
   "execution_count": null,
   "id": "22516dad-04f3-4de2-b7a2-ee490c922c10",
   "metadata": {},
   "outputs": [],
   "source": [
    "accident['Light_Conditions'].value_counts().sum()"
   ]
  },
  {
   "cell_type": "code",
   "execution_count": null,
   "id": "29fb37ec-f61b-4544-925d-0e1d5b917b1a",
   "metadata": {},
   "outputs": [],
   "source": [
    "accident['Day'] = accident['Accident Date'].dt.day_name()"
   ]
  },
  {
   "cell_type": "code",
   "execution_count": null,
   "id": "0f26e77a-0fe6-4d5b-b2b4-d729b0442c70",
   "metadata": {},
   "outputs": [],
   "source": [
    "accident['Day'].value_counts()"
   ]
  },
  {
   "cell_type": "code",
   "execution_count": null,
   "id": "99a81e2c-43dc-45dd-b1d0-09ea36743c85",
   "metadata": {},
   "outputs": [],
   "source": [
    "Aci = accident.groupby(['Weather_Conditions','Accident Date']).size()"
   ]
  },
  {
   "cell_type": "code",
   "execution_count": null,
   "id": "f126db8e-d6e9-4096-a7c6-bc37cc84a630",
   "metadata": {},
   "outputs": [],
   "source": [
    "Aci"
   ]
  },
  {
   "cell_type": "markdown",
   "id": "c3ad36e7-3371-4704-9eac-e4a4e48e37da",
   "metadata": {},
   "source": [
    "<h1>Insight No.1: Accident Occured on 2019 during the Fine + high winds Weather_Conditions is dated 2019-01-01 with 33 Accident</h1>"
   ]
  },
  {
   "cell_type": "markdown",
   "id": "8874a224-7644-4144-af94-6e565ed95571",
   "metadata": {},
   "source": [
    "<h1>Casualties for Road Weather or Weather Conditions in Road types and The Number of Casualties</h1>"
   ]
  },
  {
   "cell_type": "code",
   "execution_count": null,
   "id": "c8d55e3b-f38e-4c89-b8ec-bd59ad403b46",
   "metadata": {},
   "outputs": [],
   "source": [
    "road_weather = accident.groupby(['Weather_Conditions','Road_Type','Number_of_Casualties']).size()"
   ]
  },
  {
   "cell_type": "code",
   "execution_count": null,
   "id": "4baf1792-58b6-4fd6-a736-2bd42156378e",
   "metadata": {},
   "outputs": [],
   "source": []
  },
  {
   "cell_type": "markdown",
   "id": "5f4da11c-c6ac-4384-aefb-1b69c8c63512",
   "metadata": {},
   "source": [
    "<h1>Insight No. 2: Road Weather Accident occured in 'Fine no high winds' indicates that there is 47.42% casualties in a Single carriageway</h1>"
   ]
  },
  {
   "cell_type": "code",
   "execution_count": null,
   "id": "dc002865-0da3-46f4-853a-a1e7cee38291",
   "metadata": {},
   "outputs": [],
   "source": [
    "sever = accident.groupby(['Accident_Severity','Accident Date','Vehicle_Type']).size()\n",
    "\n",
    "sever.plot(kind='bar')\n",
    "plt.title('47.42% casualties in a Single carriageway')\n",
    "plt.xlabel('Accident_Severity')\n",
    "plt.ylabel('Vehicle_Type')\n",
    "plt.gcf().set_size_inches(13,8)\n",
    "plt.show()"
   ]
  },
  {
   "cell_type": "markdown",
   "id": "8e69ebec-8128-4f39-adbc-76eb0e2d701d",
   "metadata": {},
   "source": [
    "<h1>Insight No. 3: There is a total of 9 fatal Car Accident that has happend or occured on the date 2019-01-01  </h1>"
   ]
  },
  {
   "cell_type": "code",
   "execution_count": null,
   "id": "0cc14469-bf08-4c4b-a142-b077a3b1e64d",
   "metadata": {},
   "outputs": [],
   "source": [
    "Area = accident.groupby(['District Area','Number_of_Casualties','Vehicle_Type']).size().unstack()\n",
    "\n",
    "Area.plot(kind='bar')\n",
    "plt.title('Distreict Area')\n",
    "plt.xlabel('Vehicle_Type')\n",
    "plt.ylabel('Number_of_Casualties')\n",
    "plt.gcf().set_size_inches(13,8)\n",
    "plt.show()"
   ]
  },
  {
   "cell_type": "code",
   "execution_count": null,
   "id": "de7dae74-dbed-437f-bb9d-c0615e10a611",
   "metadata": {},
   "outputs": [],
   "source": [
    "Area"
   ]
  },
  {
   "cell_type": "code",
   "execution_count": null,
   "id": "09726d58-3285-41d2-9f20-533c27bfdb9a",
   "metadata": {},
   "outputs": [],
   "source": [
    "light_vehicles = accident.groupby(['Light_Conditions', 'Number_of_Vehicles']).size()"
   ]
  },
  {
   "cell_type": "markdown",
   "id": "f992191d-fd01-49a3-bd2b-47362bb35601",
   "metadata": {},
   "source": [
    "<h1>Insight No.4 How many Vehicles accident occured in Light Conditions</h1>"
   ]
  },
  {
   "cell_type": "code",
   "execution_count": null,
   "id": "0b79e444-a846-4fb6-8622-74eb63babcd2",
   "metadata": {},
   "outputs": [],
   "source": [
    "road_vehicles = accident.groupby('Road_Type')['Number_of_Vehicles'].mean()\n",
    "\n",
    "road_vehicles.plot(kind='bar')\n",
    "plt.title('Vehicles accident occured in Light Conditions')\n",
    "plt.xlabel('Road_Type')\n",
    "plt.ylabel('Number_of_Casualties')\n",
    "plt.gcf().set_size_inches(13,8)\n",
    "plt.show()"
   ]
  },
  {
   "cell_type": "markdown",
   "id": "a46da660-928d-4eeb-80ec-a113b21ba148",
   "metadata": {},
   "source": [
    "<h1>Insight No.5: Number of Accidents that has happened in the Types of Road</h1>"
   ]
  },
  {
   "cell_type": "code",
   "execution_count": null,
   "id": "d3c53020-ce18-462f-8366-1a71c300c91f",
   "metadata": {},
   "outputs": [],
   "source": [
    "weather_casualties = accident.groupby('Weather_Conditions')['Number_of_Casualties'].mean()\n",
    "\n",
    "vehicle_casualties.plot(kind='bar')\n",
    "plt.title('Correlation of Weather Condition and Accident Severity ')\n",
    "plt.xlabel('Vehicle_Type')\n",
    "plt.ylabel('Number_of_Casualties')\n",
    "plt.gcf().set_size_inches(13,8)\n",
    "plt.show()"
   ]
  },
  {
   "cell_type": "markdown",
   "id": "c7523d60-8621-4d38-a5a1-1f36c7f3628e",
   "metadata": {},
   "source": [
    "<h1>Insight No.6: Average casualties that caused by the Weather Condition</h1>"
   ]
  },
  {
   "cell_type": "code",
   "execution_count": null,
   "id": "1a064149-7b38-4e8f-95d7-1dffe47d1bc4",
   "metadata": {},
   "outputs": [],
   "source": [
    "weather_severity = accident.groupby(['Weather_Conditions', 'Accident_Severity']).size().unstack()\n",
    "\n",
    "weather_severity.plot(kind='bar')\n",
    "plt.title('casualties that caused by the Weather Condition')\n",
    "plt.xlabel('Weather_Conditions')\n",
    "plt.ylabel('Accident_Severity')\n",
    "\n",
    "plt.show()"
   ]
  },
  {
   "cell_type": "markdown",
   "id": "f076b362-2247-4311-9feb-ac69e9455ed7",
   "metadata": {},
   "source": [
    "<h1>Insight No.7: Correlation Between Weather Condition and Accident Severity</h1>"
   ]
  },
  {
   "cell_type": "code",
   "execution_count": null,
   "id": "e6f9bd13-3bf5-4c4c-b4e9-34d38677e45d",
   "metadata": {},
   "outputs": [],
   "source": [
    "vehicle_casualties = accident.groupby('Vehicle_Type')['Number_of_Casualties'].mean()\n",
    "\n",
    "vehicle_casualties.plot(kind='bar')\n",
    "plt.title('Correlation of Weather Condition and Accident Severity ')\n",
    "plt.xlabel('Vehicle_Type')\n",
    "plt.ylabel('Number_of_Casualties')\n",
    "plt.gcf().set_size_inches(13,8)\n",
    "plt.show()"
   ]
  },
  {
   "cell_type": "markdown",
   "id": "da8f1580-a16e-42e9-80e7-32abcd2d0e2f",
   "metadata": {},
   "source": [
    "<h1>Insight No.8: The Casualties caused of many Vehicle Types</h1>"
   ]
  },
  {
   "cell_type": "code",
   "execution_count": null,
   "id": "dc1b4dd3-b82a-4258-bf07-e275ba963511",
   "metadata": {},
   "outputs": [],
   "source": [
    "surface_casualties = accident.groupby('Road_Surface_Conditions')['Number_of_Casualties'].mean()\n",
    "\n",
    "surface_casualties.plot(kind='bar')\n",
    "plt.title('')\n",
    "plt.xlabel('Road_Surface_Conditions')\n",
    "plt.ylabel('Number_of_Casualties')\n",
    "plt.gcf().set_size_inches(13,8)\n",
    "plt.show()\n",
    "severity_time"
   ]
  },
  {
   "cell_type": "markdown",
   "id": "c8955b8f-fd93-400a-8aef-d2bb122c4c65",
   "metadata": {},
   "source": [
    "<h1>Insight No9: Casualties in the Road Surface Condition</h1>"
   ]
  },
  {
   "cell_type": "code",
   "execution_count": null,
   "id": "310e7e5e-6991-4ba6-8970-cfbda70c23cb",
   "metadata": {},
   "outputs": [],
   "source": [
    "severity_time = accident.groupby([accident['Accident Date'].dt.year, 'Accident_Severity']).size().unstack()\n",
    "\n",
    "severity_time.plot(kind='bar')\n",
    "plt.title('The Impact and involvement of weather in vehicle')\n",
    "plt.xlabel('Accident Date')\n",
    "plt.ylabel('Accident_Severity')\n",
    "plt.gcf().set_size_inches(13,8)\n",
    "plt.show()\n",
    "severity_time"
   ]
  },
  {
   "cell_type": "markdown",
   "id": "5901ae04-8524-48e9-93f1-44ab5c06aebe",
   "metadata": {},
   "source": [
    "<h1>Insight No. 10:Overtime Severity of accidents </h1>"
   ]
  },
  {
   "cell_type": "code",
   "execution_count": null,
   "id": "b902eee7-e663-43db-b245-a03db023cc72",
   "metadata": {},
   "outputs": [],
   "source": [
    "severity_area = accident.groupby(['Accident_Severity', 'Urban_or_Rural_Area']).size()\n",
    "\n",
    "severity_area.plot(kind='bar')\n",
    "plt.title('Overtime Severity of accidents')\n",
    "plt.xlabel('Urban_or_Rural_Area')\n",
    "plt.ylabel('Accident_Severity')\n",
    "plt.gcf().set_size_inches(13,8)\n",
    "plt.show()\n",
    "severity_area"
   ]
  },
  {
   "cell_type": "markdown",
   "id": "71214f72-1ef4-4dfc-b856-cb0720b65120",
   "metadata": {},
   "source": [
    "<h1>Insights No.11: Accidents in Urban/Rural Area and how severe was it</h1>"
   ]
  },
  {
   "cell_type": "code",
   "execution_count": null,
   "id": "016b3983-a849-426f-a53c-714d85a16611",
   "metadata": {},
   "outputs": [],
   "source": [
    "area_vehicles = accident.groupby('Urban_or_Rural_Area')['Number_of_Vehicles'].mean()\n",
    "\n",
    "area_vehicles.plot(kind='bar')\n",
    "plt.title('Vehicles in Area')\n",
    "plt.xlabel('Area')\n",
    "plt.ylabel('Range of Vehicles')\n",
    "plt.show()"
   ]
  },
  {
   "cell_type": "markdown",
   "id": "4501160f-9b32-4cbe-a787-79ae26278a56",
   "metadata": {},
   "source": [
    "<h1>Insight No. 12: Impact of Rural and Urban and of how many vehicle accidents occur in rural and urban </h1>"
   ]
  },
  {
   "cell_type": "code",
   "execution_count": null,
   "id": "e0a975c9-96d1-4748-92f1-4dd5a720b28a",
   "metadata": {},
   "outputs": [],
   "source": [
    "light_severity = accident.groupby('Light_Conditions')['Accident_Severity'].value_counts().unstack()\n",
    "\n",
    "light_severity.plot(kind='bar')\n",
    "plt.title('Sever Accidents during Light condition')\n",
    "plt.xlabel('Light_Conditions')\n",
    "plt.ylabel('Accident_Severity')\n",
    "plt.gcf().set_size_inches(13,8)\n",
    "plt.show()\n",
    "light_severity"
   ]
  },
  {
   "cell_type": "markdown",
   "id": "5a8a7e39-93dc-486c-a552-6d73043df875",
   "metadata": {},
   "source": [
    "<h1>Insight No.13: How Severe is Light Conditions and How many accidents Occured in Light conditions </h1>"
   ]
  },
  {
   "cell_type": "code",
   "execution_count": null,
   "id": "7706c9fc-46d5-4b56-92d4-2131127f7bad",
   "metadata": {},
   "outputs": [],
   "source": [
    "road_vehicle_count = accident.groupby('Road_Type')['Number_of_Vehicles'].mean()\n",
    "\n",
    "road_vehicle_count.plot(kind='bar')\n",
    "plt.title('Traveling Road Types')\n",
    "plt.xlabel('Light_Conditions')\n",
    "plt.ylabel('Number_of_Vehicles')\n",
    "plt.gcf().set_size_inches(13,8)\n",
    "plt.show()\n",
    "road_vehicle_count"
   ]
  },
  {
   "cell_type": "markdown",
   "id": "17618917-bda4-4394-915c-748070f4d6b0",
   "metadata": {},
   "source": [
    "<h1>Insight No.14: The Involvement of types of Road that vehicles travel to and it's impact </h1>"
   ]
  },
  {
   "cell_type": "code",
   "execution_count": null,
   "id": "da352fe1-95ac-4921-b156-4116b9e703c4",
   "metadata": {},
   "outputs": [],
   "source": [
    "weather_light_vehicles = accident.groupby(['Weather_Conditions', 'Light_Conditions'])['Number_of_Vehicles'].mean()\n",
    "\n",
    "weather_light_vehicles.plot(kind='bar')\n",
    "plt.title('Light and Weather Conditions mixup ')\n",
    "plt.xlabel('Weather_Conditions')\n",
    "plt.ylabel('Light_Conditions')\n",
    "plt.gcf().set_size_inches(13,8)\n",
    "plt.show()"
   ]
  },
  {
   "cell_type": "markdown",
   "id": "25828ca4-7c70-4b11-91dd-3b4dc3ca3e1a",
   "metadata": {},
   "source": [
    "<h1>Insight No.15:Vehicle count based on weather and light conditions </h1>"
   ]
  },
  {
   "cell_type": "code",
   "execution_count": null,
   "id": "b1fe77cc-9eaf-4499-b506-4077f9d84293",
   "metadata": {},
   "outputs": [],
   "source": [
    "area_vehicles = accident.groupby('Urban_or_Rural_Area')['Number_of_Vehicles'].mean()\n",
    "\n",
    "area_vehicles.plot(kind='bar')\n",
    "plt.title('Urban and Rural Vehicles')\n",
    "plt.xlabel('Number_of_Vehicles')\n",
    "plt.ylabel('Urban_or_Rural_Area')\n",
    "plt.gcf().set_size_inches(13,8)\n",
    "plt.show()"
   ]
  },
  {
   "cell_type": "markdown",
   "id": "4dd48442-bf02-479e-9502-a6e10351c15e",
   "metadata": {},
   "source": [
    "<h1>Insight No.16: Impact of urban vs rural areas on vehicle count adding more and more casualties and accidents </h1>"
   ]
  },
  {
   "cell_type": "code",
   "execution_count": null,
   "id": "6c4b883b-8fc1-440f-8313-4bbc93760609",
   "metadata": {},
   "outputs": [],
   "source": [
    "casualty_severity = accident.groupby('Road_Type')['Number_of_Casualties'].value_counts().unstack()\n",
    "\n",
    "casualty_severity.plot(kind='bar')\n",
    "plt.title('Sever Accident on Light Conditions')\n",
    "plt.xlabel('Road_Type')\n",
    "plt.ylabel('Number_of_Casualties')\n",
    "plt.gcf().set_size_inches(8,8)\n",
    "plt.show()\n"
   ]
  },
  {
   "cell_type": "markdown",
   "id": "1a5ee343-089d-46ec-898b-276e14fa64b9",
   "metadata": {},
   "source": [
    "<h1>Insight No. 17: Severity on each Road Types that's adding more accidents</h1>"
   ]
  },
  {
   "cell_type": "code",
   "execution_count": null,
   "id": "f619f329-121c-4ae5-b011-60a13a55fafd",
   "metadata": {},
   "outputs": [],
   "source": [
    "surface_casualties = accident.groupby('Road_Surface_Conditions')['Number_of_Casualties'].mean()\n",
    "\n",
    "surface_casualties.plot(kind='bar')\n",
    "plt.title('Road Casualties')\n",
    "plt.xlabel('Number_of_Casualties')\n",
    "plt.ylabel('Road_Surface_Conditions')\n",
    "plt.show()"
   ]
  },
  {
   "cell_type": "markdown",
   "id": "4997978e-6b96-422b-add9-62d2a3521d1a",
   "metadata": {},
   "source": [
    "<h1>Insight No.18:Road Casualties During many conditions</h1>"
   ]
  },
  {
   "cell_type": "code",
   "execution_count": null,
   "id": "4bac6f61-185e-4f46-9e8c-c628c7dbf3b6",
   "metadata": {},
   "outputs": [],
   "source": [
    "road_weather = accident.groupby(['Road_Type', 'Weather_Conditions', 'Number_of_Casualties']).size().reset_index(name='Count')\n",
    "\n",
    "road_weather_pivot_data = accident.groupby(['Road_Type', 'Weather_Conditions'])['Number_of_Casualties'].sum().reset_index()\n",
    "\n",
    "road_weather_pivot = road_weather_pivot_data.pivot(index='Road_Type', columns='Weather_Conditions', values='Number_of_Casualties')\n",
    "\n",
    "sns.heatmap(road_weather_pivot, annot=True, cmap='Blues')\n",
    "plt.title('Heatmap of Total Casualties by Weather')\n",
    "plt.xlabel('Weather Conditions')\n",
    "plt.ylabel('Road Types')\n",
    "plt.show()\n"
   ]
  },
  {
   "cell_type": "markdown",
   "id": "99f6c48c-a5f5-4afb-98b0-c35b0355d44f",
   "metadata": {},
   "source": [
    "<h1>Insight No.19: Road Weather affecting road types and increasing Casualties</h1>"
   ]
  },
  {
   "cell_type": "code",
   "execution_count": null,
   "id": "2d2cb145-00a2-4245-8665-654b92d46961",
   "metadata": {},
   "outputs": [],
   "source": [
    "months = accident['Day'].value_counts().sort_index()\n",
    "\n",
    "months.plot(kind='bar')\n",
    "plt.title('Days Goes By')\n",
    "plt.xlabel('Days')\n",
    "plt.ylabel('Accidents as of 2019-2022')\n",
    "plt.show()"
   ]
  },
  {
   "cell_type": "markdown",
   "id": "b1362ec3-8e67-4fd6-acac-5fd6b8d4be5d",
   "metadata": {},
   "source": [
    "<h1>Insight No.20: Day Results of Accidents in the Year 2019-2022 </h1>"
   ]
  }
 ],
 "metadata": {
  "kernelspec": {
   "display_name": "Python 3 (ipykernel)",
   "language": "python",
   "name": "python3"
  },
  "language_info": {
   "codemirror_mode": {
    "name": "ipython",
    "version": 3
   },
   "file_extension": ".py",
   "mimetype": "text/x-python",
   "name": "python",
   "nbconvert_exporter": "python",
   "pygments_lexer": "ipython3",
   "version": "3.13.2"
  }
 },
 "nbformat": 4,
 "nbformat_minor": 5
}
